{
 "cells": [
  {
   "cell_type": "code",
   "execution_count": 24,
   "metadata": {},
   "outputs": [],
   "source": [
    "import yfinance as yf\n",
    "import pandas as pd\n",
    "import numpy as np\n",
    "\n",
    "import scipy"
   ]
  },
  {
   "cell_type": "markdown",
   "metadata": {},
   "source": [
    "### Utility Functions"
   ]
  },
  {
   "cell_type": "code",
   "execution_count": 21,
   "metadata": {},
   "outputs": [],
   "source": [
    "def get_drift_volatility(symbol, period='45d'):\n",
    "    \n",
    "    # Get NSE Historic Data\n",
    "    ticker = yf.Ticker(symbol)\n",
    "    df = ticker.history(period=period)['Close'].reset_index()\n",
    "\n",
    "    # Calculate Daily Returns\n",
    "    df['Prev Close'] = df['Close'].shift(1)\n",
    "    df['Daily Rt'] = np.log(df['Close'] / df['Prev Close'])\n",
    "\n",
    "    # Calculate Daily and Annualized Drift\n",
    "    daily_drift = df['Daily Rt'].mean()\n",
    "    annual_drift = daily_drift * 252\n",
    "\n",
    "    # Calculate Daily and Annualized Volatility\n",
    "    daily_volatility = df['Daily Rt'].std()\n",
    "    annual_volatility = daily_volatility * np.sqrt(252)\n",
    "\n",
    "    # Drift Mean\n",
    "    drift_mean = daily_drift - (0.5 * (daily_volatility ** 2))\n",
    "\n",
    "    return daily_drift, annual_drift, daily_volatility, annual_volatility, drift_mean"
   ]
  },
  {
   "cell_type": "code",
   "execution_count": 56,
   "metadata": {},
   "outputs": [],
   "source": [
    "def gbm(initial_shock, drift_mean, daily_volatility, t=5):\n",
    "\n",
    "    price = []\n",
    "\n",
    "    for i in range(t):\n",
    "        z = scipy.stats.norm.ppf(np.random.rand())\n",
    "        log_return = drift_mean + daily_volatility * z\n",
    "        p = initial_shock * np.exp(log_return)\n",
    "        initial_shock = p\n",
    "        price.append(p)\n",
    "\n",
    "    return price"
   ]
  },
  {
   "cell_type": "markdown",
   "metadata": {},
   "source": [
    "### Experiment"
   ]
  },
  {
   "cell_type": "code",
   "execution_count": 22,
   "metadata": {},
   "outputs": [],
   "source": [
    "# URL to get the list of NSE stocks\n",
    "nse_tickers_url = '../data/static/ind_nifty50list.csv'\n",
    "\n",
    "# Read the data from the URL\n",
    "tickers_df = pd.read_csv(nse_tickers_url)\n",
    "\n",
    "# Extract the Symbol column\n",
    "tickers = tickers_df['Symbol'].tolist()\n",
    "\n",
    "# Print all NSE tickers\n",
    "vol_df = []\n",
    "for ticker in tickers:\n",
    "   dd, ad, dv, av, dm = get_drift_volatility(ticker+'.NS')\n",
    "   tmp = {\n",
    "      'Symbol': ticker,\n",
    "      'Daily Drift': dd,\n",
    "      'Annual Drift': ad,\n",
    "      'Daily Volatility': dv,\n",
    "      'Annual Volatility': av,\n",
    "      'Drift Mean': dm\n",
    "   }\n",
    "   vol_df.append(tmp)\n",
    "\n",
    "vol_df = pd.DataFrame(vol_df)"
   ]
  },
  {
   "cell_type": "code",
   "execution_count": 23,
   "metadata": {},
   "outputs": [
    {
     "data": {
      "text/html": [
       "<div>\n",
       "<style scoped>\n",
       "    .dataframe tbody tr th:only-of-type {\n",
       "        vertical-align: middle;\n",
       "    }\n",
       "\n",
       "    .dataframe tbody tr th {\n",
       "        vertical-align: top;\n",
       "    }\n",
       "\n",
       "    .dataframe thead th {\n",
       "        text-align: right;\n",
       "    }\n",
       "</style>\n",
       "<table border=\"1\" class=\"dataframe\">\n",
       "  <thead>\n",
       "    <tr style=\"text-align: right;\">\n",
       "      <th></th>\n",
       "      <th>Symbol</th>\n",
       "      <th>Daily Drift</th>\n",
       "      <th>Annual Drift</th>\n",
       "      <th>Daily Volatility</th>\n",
       "      <th>Annual Volatility</th>\n",
       "      <th>Drift Mean</th>\n",
       "    </tr>\n",
       "  </thead>\n",
       "  <tbody>\n",
       "    <tr>\n",
       "      <th>0</th>\n",
       "      <td>ADANIENT</td>\n",
       "      <td>-0.001038</td>\n",
       "      <td>-0.261539</td>\n",
       "      <td>0.021944</td>\n",
       "      <td>0.348346</td>\n",
       "      <td>-0.001279</td>\n",
       "    </tr>\n",
       "    <tr>\n",
       "      <th>1</th>\n",
       "      <td>ADANIPORTS</td>\n",
       "      <td>0.000300</td>\n",
       "      <td>0.075661</td>\n",
       "      <td>0.019141</td>\n",
       "      <td>0.303857</td>\n",
       "      <td>0.000117</td>\n",
       "    </tr>\n",
       "    <tr>\n",
       "      <th>2</th>\n",
       "      <td>APOLLOHOSP</td>\n",
       "      <td>-0.000913</td>\n",
       "      <td>-0.230025</td>\n",
       "      <td>0.016252</td>\n",
       "      <td>0.257998</td>\n",
       "      <td>-0.001045</td>\n",
       "    </tr>\n",
       "    <tr>\n",
       "      <th>3</th>\n",
       "      <td>ASIANPAINT</td>\n",
       "      <td>-0.000463</td>\n",
       "      <td>-0.116738</td>\n",
       "      <td>0.014177</td>\n",
       "      <td>0.225048</td>\n",
       "      <td>-0.000564</td>\n",
       "    </tr>\n",
       "    <tr>\n",
       "      <th>4</th>\n",
       "      <td>AXISBANK</td>\n",
       "      <td>0.000733</td>\n",
       "      <td>0.184669</td>\n",
       "      <td>0.014272</td>\n",
       "      <td>0.226566</td>\n",
       "      <td>0.000631</td>\n",
       "    </tr>\n",
       "    <tr>\n",
       "      <th>5</th>\n",
       "      <td>BAJAJ-AUTO</td>\n",
       "      <td>0.000381</td>\n",
       "      <td>0.095919</td>\n",
       "      <td>0.014903</td>\n",
       "      <td>0.236585</td>\n",
       "      <td>0.000270</td>\n",
       "    </tr>\n",
       "    <tr>\n",
       "      <th>6</th>\n",
       "      <td>BAJFINANCE</td>\n",
       "      <td>0.001030</td>\n",
       "      <td>0.259582</td>\n",
       "      <td>0.017784</td>\n",
       "      <td>0.282305</td>\n",
       "      <td>0.000872</td>\n",
       "    </tr>\n",
       "    <tr>\n",
       "      <th>7</th>\n",
       "      <td>BAJAJFINSV</td>\n",
       "      <td>-0.000124</td>\n",
       "      <td>-0.031261</td>\n",
       "      <td>0.012840</td>\n",
       "      <td>0.203825</td>\n",
       "      <td>-0.000206</td>\n",
       "    </tr>\n",
       "    <tr>\n",
       "      <th>8</th>\n",
       "      <td>BPCL</td>\n",
       "      <td>0.000078</td>\n",
       "      <td>0.019633</td>\n",
       "      <td>0.022513</td>\n",
       "      <td>0.357383</td>\n",
       "      <td>-0.000176</td>\n",
       "    </tr>\n",
       "    <tr>\n",
       "      <th>9</th>\n",
       "      <td>BHARTIARTL</td>\n",
       "      <td>0.002680</td>\n",
       "      <td>0.675474</td>\n",
       "      <td>0.014560</td>\n",
       "      <td>0.231133</td>\n",
       "      <td>0.002574</td>\n",
       "    </tr>\n",
       "    <tr>\n",
       "      <th>10</th>\n",
       "      <td>BRITANNIA</td>\n",
       "      <td>0.000781</td>\n",
       "      <td>0.196736</td>\n",
       "      <td>0.015126</td>\n",
       "      <td>0.240123</td>\n",
       "      <td>0.000666</td>\n",
       "    </tr>\n",
       "    <tr>\n",
       "      <th>11</th>\n",
       "      <td>CIPLA</td>\n",
       "      <td>-0.001546</td>\n",
       "      <td>-0.389659</td>\n",
       "      <td>0.018444</td>\n",
       "      <td>0.292787</td>\n",
       "      <td>-0.001716</td>\n",
       "    </tr>\n",
       "    <tr>\n",
       "      <th>12</th>\n",
       "      <td>COALINDIA</td>\n",
       "      <td>0.000749</td>\n",
       "      <td>0.188636</td>\n",
       "      <td>0.021610</td>\n",
       "      <td>0.343048</td>\n",
       "      <td>0.000515</td>\n",
       "    </tr>\n",
       "    <tr>\n",
       "      <th>13</th>\n",
       "      <td>DIVISLAB</td>\n",
       "      <td>0.001908</td>\n",
       "      <td>0.480917</td>\n",
       "      <td>0.015575</td>\n",
       "      <td>0.247244</td>\n",
       "      <td>0.001787</td>\n",
       "    </tr>\n",
       "    <tr>\n",
       "      <th>14</th>\n",
       "      <td>DRREDDY</td>\n",
       "      <td>-0.002106</td>\n",
       "      <td>-0.530626</td>\n",
       "      <td>0.013730</td>\n",
       "      <td>0.217961</td>\n",
       "      <td>-0.002200</td>\n",
       "    </tr>\n",
       "    <tr>\n",
       "      <th>15</th>\n",
       "      <td>EICHERMOT</td>\n",
       "      <td>0.004747</td>\n",
       "      <td>1.196220</td>\n",
       "      <td>0.014901</td>\n",
       "      <td>0.236539</td>\n",
       "      <td>0.004636</td>\n",
       "    </tr>\n",
       "    <tr>\n",
       "      <th>16</th>\n",
       "      <td>GRASIM</td>\n",
       "      <td>0.001894</td>\n",
       "      <td>0.477167</td>\n",
       "      <td>0.014685</td>\n",
       "      <td>0.233118</td>\n",
       "      <td>0.001786</td>\n",
       "    </tr>\n",
       "    <tr>\n",
       "      <th>17</th>\n",
       "      <td>HCLTECH</td>\n",
       "      <td>-0.004188</td>\n",
       "      <td>-1.055403</td>\n",
       "      <td>0.014325</td>\n",
       "      <td>0.227402</td>\n",
       "      <td>-0.004291</td>\n",
       "    </tr>\n",
       "    <tr>\n",
       "      <th>18</th>\n",
       "      <td>HDFCBANK</td>\n",
       "      <td>0.000893</td>\n",
       "      <td>0.225145</td>\n",
       "      <td>0.011491</td>\n",
       "      <td>0.182417</td>\n",
       "      <td>0.000827</td>\n",
       "    </tr>\n",
       "    <tr>\n",
       "      <th>19</th>\n",
       "      <td>HDFCLIFE</td>\n",
       "      <td>-0.001930</td>\n",
       "      <td>-0.486402</td>\n",
       "      <td>0.011537</td>\n",
       "      <td>0.183150</td>\n",
       "      <td>-0.001997</td>\n",
       "    </tr>\n",
       "    <tr>\n",
       "      <th>20</th>\n",
       "      <td>HEROMOTOCO</td>\n",
       "      <td>0.001949</td>\n",
       "      <td>0.491218</td>\n",
       "      <td>0.017409</td>\n",
       "      <td>0.276362</td>\n",
       "      <td>0.001798</td>\n",
       "    </tr>\n",
       "    <tr>\n",
       "      <th>21</th>\n",
       "      <td>HINDALCO</td>\n",
       "      <td>0.004713</td>\n",
       "      <td>1.187776</td>\n",
       "      <td>0.015750</td>\n",
       "      <td>0.250029</td>\n",
       "      <td>0.004589</td>\n",
       "    </tr>\n",
       "    <tr>\n",
       "      <th>22</th>\n",
       "      <td>HINDUNILVR</td>\n",
       "      <td>-0.000557</td>\n",
       "      <td>-0.140347</td>\n",
       "      <td>0.012419</td>\n",
       "      <td>0.197144</td>\n",
       "      <td>-0.000634</td>\n",
       "    </tr>\n",
       "    <tr>\n",
       "      <th>23</th>\n",
       "      <td>ICICIBANK</td>\n",
       "      <td>0.001072</td>\n",
       "      <td>0.270085</td>\n",
       "      <td>0.010902</td>\n",
       "      <td>0.173070</td>\n",
       "      <td>0.001012</td>\n",
       "    </tr>\n",
       "    <tr>\n",
       "      <th>24</th>\n",
       "      <td>ITC</td>\n",
       "      <td>0.001435</td>\n",
       "      <td>0.361501</td>\n",
       "      <td>0.013102</td>\n",
       "      <td>0.207996</td>\n",
       "      <td>0.001349</td>\n",
       "    </tr>\n",
       "    <tr>\n",
       "      <th>25</th>\n",
       "      <td>INDUSINDBK</td>\n",
       "      <td>-0.001873</td>\n",
       "      <td>-0.471940</td>\n",
       "      <td>0.014934</td>\n",
       "      <td>0.237066</td>\n",
       "      <td>-0.001984</td>\n",
       "    </tr>\n",
       "    <tr>\n",
       "      <th>26</th>\n",
       "      <td>INFY</td>\n",
       "      <td>-0.002283</td>\n",
       "      <td>-0.575421</td>\n",
       "      <td>0.012144</td>\n",
       "      <td>0.192776</td>\n",
       "      <td>-0.002357</td>\n",
       "    </tr>\n",
       "    <tr>\n",
       "      <th>27</th>\n",
       "      <td>JSWSTEEL</td>\n",
       "      <td>0.001586</td>\n",
       "      <td>0.399751</td>\n",
       "      <td>0.018859</td>\n",
       "      <td>0.299373</td>\n",
       "      <td>0.001408</td>\n",
       "    </tr>\n",
       "    <tr>\n",
       "      <th>28</th>\n",
       "      <td>KOTAKBANK</td>\n",
       "      <td>-0.000446</td>\n",
       "      <td>-0.112498</td>\n",
       "      <td>0.022058</td>\n",
       "      <td>0.350154</td>\n",
       "      <td>-0.000690</td>\n",
       "    </tr>\n",
       "    <tr>\n",
       "      <th>29</th>\n",
       "      <td>LTIM</td>\n",
       "      <td>-0.001666</td>\n",
       "      <td>-0.419800</td>\n",
       "      <td>0.012333</td>\n",
       "      <td>0.195781</td>\n",
       "      <td>-0.001742</td>\n",
       "    </tr>\n",
       "    <tr>\n",
       "      <th>30</th>\n",
       "      <td>LT</td>\n",
       "      <td>-0.001083</td>\n",
       "      <td>-0.272802</td>\n",
       "      <td>0.016732</td>\n",
       "      <td>0.265620</td>\n",
       "      <td>-0.001223</td>\n",
       "    </tr>\n",
       "    <tr>\n",
       "      <th>31</th>\n",
       "      <td>M&amp;M</td>\n",
       "      <td>0.006200</td>\n",
       "      <td>1.562477</td>\n",
       "      <td>0.019430</td>\n",
       "      <td>0.308436</td>\n",
       "      <td>0.006012</td>\n",
       "    </tr>\n",
       "    <tr>\n",
       "      <th>32</th>\n",
       "      <td>MARUTI</td>\n",
       "      <td>0.002254</td>\n",
       "      <td>0.567985</td>\n",
       "      <td>0.014480</td>\n",
       "      <td>0.229858</td>\n",
       "      <td>0.002149</td>\n",
       "    </tr>\n",
       "    <tr>\n",
       "      <th>33</th>\n",
       "      <td>NTPC</td>\n",
       "      <td>0.001124</td>\n",
       "      <td>0.283217</td>\n",
       "      <td>0.017962</td>\n",
       "      <td>0.285143</td>\n",
       "      <td>0.000963</td>\n",
       "    </tr>\n",
       "    <tr>\n",
       "      <th>34</th>\n",
       "      <td>NESTLEIND</td>\n",
       "      <td>-0.000970</td>\n",
       "      <td>-0.244351</td>\n",
       "      <td>0.014614</td>\n",
       "      <td>0.231988</td>\n",
       "      <td>-0.001076</td>\n",
       "    </tr>\n",
       "    <tr>\n",
       "      <th>35</th>\n",
       "      <td>ONGC</td>\n",
       "      <td>0.000398</td>\n",
       "      <td>0.100265</td>\n",
       "      <td>0.019216</td>\n",
       "      <td>0.305049</td>\n",
       "      <td>0.000213</td>\n",
       "    </tr>\n",
       "    <tr>\n",
       "      <th>36</th>\n",
       "      <td>POWERGRID</td>\n",
       "      <td>0.002252</td>\n",
       "      <td>0.567421</td>\n",
       "      <td>0.019669</td>\n",
       "      <td>0.312234</td>\n",
       "      <td>0.002058</td>\n",
       "    </tr>\n",
       "    <tr>\n",
       "      <th>37</th>\n",
       "      <td>RELIANCE</td>\n",
       "      <td>-0.000488</td>\n",
       "      <td>-0.122955</td>\n",
       "      <td>0.011419</td>\n",
       "      <td>0.181273</td>\n",
       "      <td>-0.000553</td>\n",
       "    </tr>\n",
       "    <tr>\n",
       "      <th>38</th>\n",
       "      <td>SBILIFE</td>\n",
       "      <td>-0.001419</td>\n",
       "      <td>-0.357583</td>\n",
       "      <td>0.011278</td>\n",
       "      <td>0.179034</td>\n",
       "      <td>-0.001483</td>\n",
       "    </tr>\n",
       "    <tr>\n",
       "      <th>39</th>\n",
       "      <td>SHRIRAMFIN</td>\n",
       "      <td>-0.001009</td>\n",
       "      <td>-0.254183</td>\n",
       "      <td>0.017400</td>\n",
       "      <td>0.276221</td>\n",
       "      <td>-0.001160</td>\n",
       "    </tr>\n",
       "    <tr>\n",
       "      <th>40</th>\n",
       "      <td>SBIN</td>\n",
       "      <td>0.001332</td>\n",
       "      <td>0.335707</td>\n",
       "      <td>0.014590</td>\n",
       "      <td>0.231615</td>\n",
       "      <td>0.001226</td>\n",
       "    </tr>\n",
       "    <tr>\n",
       "      <th>41</th>\n",
       "      <td>SUNPHARMA</td>\n",
       "      <td>-0.000847</td>\n",
       "      <td>-0.213455</td>\n",
       "      <td>0.013148</td>\n",
       "      <td>0.208719</td>\n",
       "      <td>-0.000933</td>\n",
       "    </tr>\n",
       "    <tr>\n",
       "      <th>42</th>\n",
       "      <td>TCS</td>\n",
       "      <td>-0.001339</td>\n",
       "      <td>-0.337336</td>\n",
       "      <td>0.012750</td>\n",
       "      <td>0.202403</td>\n",
       "      <td>-0.001420</td>\n",
       "    </tr>\n",
       "    <tr>\n",
       "      <th>43</th>\n",
       "      <td>TATACONSUM</td>\n",
       "      <td>-0.002414</td>\n",
       "      <td>-0.608323</td>\n",
       "      <td>0.017250</td>\n",
       "      <td>0.273835</td>\n",
       "      <td>-0.002563</td>\n",
       "    </tr>\n",
       "    <tr>\n",
       "      <th>44</th>\n",
       "      <td>TATAMOTORS</td>\n",
       "      <td>-0.001660</td>\n",
       "      <td>-0.418358</td>\n",
       "      <td>0.019873</td>\n",
       "      <td>0.315468</td>\n",
       "      <td>-0.001858</td>\n",
       "    </tr>\n",
       "    <tr>\n",
       "      <th>45</th>\n",
       "      <td>TATASTEEL</td>\n",
       "      <td>0.001987</td>\n",
       "      <td>0.500629</td>\n",
       "      <td>0.018138</td>\n",
       "      <td>0.287929</td>\n",
       "      <td>0.001822</td>\n",
       "    </tr>\n",
       "    <tr>\n",
       "      <th>46</th>\n",
       "      <td>TECHM</td>\n",
       "      <td>0.000291</td>\n",
       "      <td>0.073373</td>\n",
       "      <td>0.016189</td>\n",
       "      <td>0.256995</td>\n",
       "      <td>0.000160</td>\n",
       "    </tr>\n",
       "    <tr>\n",
       "      <th>47</th>\n",
       "      <td>TITAN</td>\n",
       "      <td>-0.002421</td>\n",
       "      <td>-0.610189</td>\n",
       "      <td>0.016823</td>\n",
       "      <td>0.267052</td>\n",
       "      <td>-0.002563</td>\n",
       "    </tr>\n",
       "    <tr>\n",
       "      <th>48</th>\n",
       "      <td>ULTRACEMCO</td>\n",
       "      <td>0.000354</td>\n",
       "      <td>0.089137</td>\n",
       "      <td>0.011045</td>\n",
       "      <td>0.175335</td>\n",
       "      <td>0.000293</td>\n",
       "    </tr>\n",
       "    <tr>\n",
       "      <th>49</th>\n",
       "      <td>WIPRO</td>\n",
       "      <td>-0.002356</td>\n",
       "      <td>-0.593587</td>\n",
       "      <td>0.012796</td>\n",
       "      <td>0.203133</td>\n",
       "      <td>-0.002437</td>\n",
       "    </tr>\n",
       "  </tbody>\n",
       "</table>\n",
       "</div>"
      ],
      "text/plain": [
       "        Symbol  Daily Drift  Annual Drift  Daily Volatility  \\\n",
       "0     ADANIENT    -0.001038     -0.261539          0.021944   \n",
       "1   ADANIPORTS     0.000300      0.075661          0.019141   \n",
       "2   APOLLOHOSP    -0.000913     -0.230025          0.016252   \n",
       "3   ASIANPAINT    -0.000463     -0.116738          0.014177   \n",
       "4     AXISBANK     0.000733      0.184669          0.014272   \n",
       "5   BAJAJ-AUTO     0.000381      0.095919          0.014903   \n",
       "6   BAJFINANCE     0.001030      0.259582          0.017784   \n",
       "7   BAJAJFINSV    -0.000124     -0.031261          0.012840   \n",
       "8         BPCL     0.000078      0.019633          0.022513   \n",
       "9   BHARTIARTL     0.002680      0.675474          0.014560   \n",
       "10   BRITANNIA     0.000781      0.196736          0.015126   \n",
       "11       CIPLA    -0.001546     -0.389659          0.018444   \n",
       "12   COALINDIA     0.000749      0.188636          0.021610   \n",
       "13    DIVISLAB     0.001908      0.480917          0.015575   \n",
       "14     DRREDDY    -0.002106     -0.530626          0.013730   \n",
       "15   EICHERMOT     0.004747      1.196220          0.014901   \n",
       "16      GRASIM     0.001894      0.477167          0.014685   \n",
       "17     HCLTECH    -0.004188     -1.055403          0.014325   \n",
       "18    HDFCBANK     0.000893      0.225145          0.011491   \n",
       "19    HDFCLIFE    -0.001930     -0.486402          0.011537   \n",
       "20  HEROMOTOCO     0.001949      0.491218          0.017409   \n",
       "21    HINDALCO     0.004713      1.187776          0.015750   \n",
       "22  HINDUNILVR    -0.000557     -0.140347          0.012419   \n",
       "23   ICICIBANK     0.001072      0.270085          0.010902   \n",
       "24         ITC     0.001435      0.361501          0.013102   \n",
       "25  INDUSINDBK    -0.001873     -0.471940          0.014934   \n",
       "26        INFY    -0.002283     -0.575421          0.012144   \n",
       "27    JSWSTEEL     0.001586      0.399751          0.018859   \n",
       "28   KOTAKBANK    -0.000446     -0.112498          0.022058   \n",
       "29        LTIM    -0.001666     -0.419800          0.012333   \n",
       "30          LT    -0.001083     -0.272802          0.016732   \n",
       "31         M&M     0.006200      1.562477          0.019430   \n",
       "32      MARUTI     0.002254      0.567985          0.014480   \n",
       "33        NTPC     0.001124      0.283217          0.017962   \n",
       "34   NESTLEIND    -0.000970     -0.244351          0.014614   \n",
       "35        ONGC     0.000398      0.100265          0.019216   \n",
       "36   POWERGRID     0.002252      0.567421          0.019669   \n",
       "37    RELIANCE    -0.000488     -0.122955          0.011419   \n",
       "38     SBILIFE    -0.001419     -0.357583          0.011278   \n",
       "39  SHRIRAMFIN    -0.001009     -0.254183          0.017400   \n",
       "40        SBIN     0.001332      0.335707          0.014590   \n",
       "41   SUNPHARMA    -0.000847     -0.213455          0.013148   \n",
       "42         TCS    -0.001339     -0.337336          0.012750   \n",
       "43  TATACONSUM    -0.002414     -0.608323          0.017250   \n",
       "44  TATAMOTORS    -0.001660     -0.418358          0.019873   \n",
       "45   TATASTEEL     0.001987      0.500629          0.018138   \n",
       "46       TECHM     0.000291      0.073373          0.016189   \n",
       "47       TITAN    -0.002421     -0.610189          0.016823   \n",
       "48  ULTRACEMCO     0.000354      0.089137          0.011045   \n",
       "49       WIPRO    -0.002356     -0.593587          0.012796   \n",
       "\n",
       "    Annual Volatility  Drift Mean  \n",
       "0            0.348346   -0.001279  \n",
       "1            0.303857    0.000117  \n",
       "2            0.257998   -0.001045  \n",
       "3            0.225048   -0.000564  \n",
       "4            0.226566    0.000631  \n",
       "5            0.236585    0.000270  \n",
       "6            0.282305    0.000872  \n",
       "7            0.203825   -0.000206  \n",
       "8            0.357383   -0.000176  \n",
       "9            0.231133    0.002574  \n",
       "10           0.240123    0.000666  \n",
       "11           0.292787   -0.001716  \n",
       "12           0.343048    0.000515  \n",
       "13           0.247244    0.001787  \n",
       "14           0.217961   -0.002200  \n",
       "15           0.236539    0.004636  \n",
       "16           0.233118    0.001786  \n",
       "17           0.227402   -0.004291  \n",
       "18           0.182417    0.000827  \n",
       "19           0.183150   -0.001997  \n",
       "20           0.276362    0.001798  \n",
       "21           0.250029    0.004589  \n",
       "22           0.197144   -0.000634  \n",
       "23           0.173070    0.001012  \n",
       "24           0.207996    0.001349  \n",
       "25           0.237066   -0.001984  \n",
       "26           0.192776   -0.002357  \n",
       "27           0.299373    0.001408  \n",
       "28           0.350154   -0.000690  \n",
       "29           0.195781   -0.001742  \n",
       "30           0.265620   -0.001223  \n",
       "31           0.308436    0.006012  \n",
       "32           0.229858    0.002149  \n",
       "33           0.285143    0.000963  \n",
       "34           0.231988   -0.001076  \n",
       "35           0.305049    0.000213  \n",
       "36           0.312234    0.002058  \n",
       "37           0.181273   -0.000553  \n",
       "38           0.179034   -0.001483  \n",
       "39           0.276221   -0.001160  \n",
       "40           0.231615    0.001226  \n",
       "41           0.208719   -0.000933  \n",
       "42           0.202403   -0.001420  \n",
       "43           0.273835   -0.002563  \n",
       "44           0.315468   -0.001858  \n",
       "45           0.287929    0.001822  \n",
       "46           0.256995    0.000160  \n",
       "47           0.267052   -0.002563  \n",
       "48           0.175335    0.000293  \n",
       "49           0.203133   -0.002437  "
      ]
     },
     "execution_count": 23,
     "metadata": {},
     "output_type": "execute_result"
    }
   ],
   "source": [
    "vol_df"
   ]
  },
  {
   "cell_type": "code",
   "execution_count": null,
   "metadata": {},
   "outputs": [],
   "source": []
  },
  {
   "cell_type": "code",
   "execution_count": null,
   "metadata": {},
   "outputs": [],
   "source": []
  },
  {
   "cell_type": "markdown",
   "metadata": {},
   "source": [
    "### Rough"
   ]
  },
  {
   "cell_type": "code",
   "execution_count": 79,
   "metadata": {},
   "outputs": [
    {
     "data": {
      "text/plain": [
       "(0.020992579894727276, 0.33324687467461717)"
      ]
     },
     "execution_count": 79,
     "metadata": {},
     "output_type": "execute_result"
    }
   ],
   "source": [
    "get_volatility('ZYDUSLIFE.NS')"
   ]
  },
  {
   "cell_type": "code",
   "execution_count": 3,
   "metadata": {},
   "outputs": [],
   "source": [
    "ticker = yf.Ticker('ZYDUSLIFE.NS')"
   ]
  },
  {
   "cell_type": "code",
   "execution_count": 4,
   "metadata": {},
   "outputs": [],
   "source": [
    "df = ticker.history(period='45d')['Close'].reset_index()"
   ]
  },
  {
   "cell_type": "code",
   "execution_count": 5,
   "metadata": {},
   "outputs": [],
   "source": [
    "df['Prev Close'] = df['Close'].shift(1)"
   ]
  },
  {
   "cell_type": "code",
   "execution_count": 6,
   "metadata": {},
   "outputs": [],
   "source": [
    "df['Daily Rt'] = np.log(df['Close'] / df['Prev Close'])"
   ]
  },
  {
   "cell_type": "code",
   "execution_count": 72,
   "metadata": {},
   "outputs": [],
   "source": [
    "df.to_csv('../data/test/zyduslife.csv', index=False)"
   ]
  },
  {
   "cell_type": "code",
   "execution_count": 7,
   "metadata": {},
   "outputs": [
    {
     "data": {
      "text/plain": [
       "0.020992579894727276"
      ]
     },
     "execution_count": 7,
     "metadata": {},
     "output_type": "execute_result"
    }
   ],
   "source": [
    "daily_volatility = df['Daily Rt'].std()\n",
    "daily_volatility"
   ]
  },
  {
   "cell_type": "code",
   "execution_count": 17,
   "metadata": {},
   "outputs": [
    {
     "data": {
      "text/plain": [
       "5.290130133471274"
      ]
     },
     "execution_count": 17,
     "metadata": {},
     "output_type": "execute_result"
    }
   ],
   "source": [
    "annual_volatility = daily_volatility * 252\n",
    "annual_volatility"
   ]
  },
  {
   "cell_type": "code",
   "execution_count": 10,
   "metadata": {},
   "outputs": [
    {
     "data": {
      "text/plain": [
       "0.0023213346431457697"
      ]
     },
     "execution_count": 10,
     "metadata": {},
     "output_type": "execute_result"
    }
   ],
   "source": [
    "daily_drift = df['Daily Rt'].mean()\n",
    "daily_drift"
   ]
  },
  {
   "cell_type": "code",
   "execution_count": 11,
   "metadata": {},
   "outputs": [
    {
     "data": {
      "text/plain": [
       "0.036850045053135445"
      ]
     },
     "execution_count": 11,
     "metadata": {},
     "output_type": "execute_result"
    }
   ],
   "source": [
    "annual_drift = daily_drift * np.sqrt(252)\n",
    "annual_drift"
   ]
  },
  {
   "cell_type": "code",
   "execution_count": 47,
   "metadata": {},
   "outputs": [
    {
     "data": {
      "text/plain": [
       "5.114926372216871e-07"
      ]
     },
     "execution_count": 47,
     "metadata": {},
     "output_type": "execute_result"
    }
   ],
   "source": [
    "drift_mean = daily_drift * (0.5 * (daily_volatility**2))\n",
    "drift_mean"
   ]
  },
  {
   "cell_type": "code",
   "execution_count": 75,
   "metadata": {},
   "outputs": [
    {
     "data": {
      "text/plain": [
       "(46, 4)"
      ]
     },
     "execution_count": 75,
     "metadata": {},
     "output_type": "execute_result"
    }
   ],
   "source": [
    "df.shape"
   ]
  },
  {
   "cell_type": "code",
   "execution_count": 41,
   "metadata": {},
   "outputs": [
    {
     "name": "stdout",
     "output_type": "stream",
     "text": [
      "-3.090232306167813\n",
      "-1.2815515655446004\n",
      "-0.8416212335729142\n",
      "-0.5244005127080407\n",
      "-0.2533471031357997\n",
      "0.0\n",
      "0.2533471031357997\n",
      "0.524400512708041\n",
      "0.8416212335729143\n",
      "1.2815515655446004\n"
     ]
    },
    {
     "data": {
      "text/plain": [
       "2.3263478740408408"
      ]
     },
     "execution_count": 41,
     "metadata": {},
     "output_type": "execute_result"
    }
   ],
   "source": [
    "print(scipy.stats.norm.ppf(0.001))\n",
    "for i in np.arange(0.1, 1, 0.1):\n",
    "    print(scipy.stats.norm.ppf(i))\n",
    "\n",
    "scipy.stats.norm.ppf(0.99)"
   ]
  },
  {
   "cell_type": "code",
   "execution_count": 52,
   "metadata": {},
   "outputs": [
    {
     "data": {
      "text/plain": [
       "-0.22154311410959399"
      ]
     },
     "execution_count": 52,
     "metadata": {},
     "output_type": "execute_result"
    }
   ],
   "source": [
    "z = scipy.stats.norm.ppf(np.random.rand())\n",
    "z"
   ]
  },
  {
   "cell_type": "code",
   "execution_count": 53,
   "metadata": {},
   "outputs": [
    {
     "data": {
      "text/plain": [
       "-0.004650250030435112"
      ]
     },
     "execution_count": 53,
     "metadata": {},
     "output_type": "execute_result"
    }
   ],
   "source": [
    "log_return = drift_mean + daily_volatility * z\n",
    "log_return"
   ]
  },
  {
   "cell_type": "code",
   "execution_count": 50,
   "metadata": {},
   "outputs": [],
   "source": [
    "# df"
   ]
  },
  {
   "cell_type": "code",
   "execution_count": 55,
   "metadata": {},
   "outputs": [
    {
     "data": {
      "text/plain": [
       "1097.8826818426446"
      ]
     },
     "execution_count": 55,
     "metadata": {},
     "output_type": "execute_result"
    }
   ],
   "source": [
    "1103 * np.exp(log_return)"
   ]
  },
  {
   "cell_type": "code",
   "execution_count": 59,
   "metadata": {},
   "outputs": [
    {
     "name": "stdout",
     "output_type": "stream",
     "text": [
      "[1107.6775052973544, 1116.2217552350326, 1096.8689260428166, 1073.9912096456549, 1067.7138614775863]\n",
      "[1137.8366507936128, 1123.0422409478956, 1113.93854936939, 1107.9055468796291, 1111.2749651439062]\n",
      "[1115.6323054216477, 1080.4382072839521, 1119.3698838453004, 1081.2854003543848, 1113.4145764610294]\n",
      "[1101.7925211188287, 1126.6740808010804, 1114.0982832161392, 1141.237050817523, 1154.2829107776654]\n",
      "[1098.487855504138, 1129.1833658466135, 1128.5694668456322, 1141.6288328752357, 1139.8646827914936]\n"
     ]
    }
   ],
   "source": [
    "for t in range(5):\n",
    "    print(gbm(1103, drift_mean, daily_volatility))"
   ]
  },
  {
   "cell_type": "code",
   "execution_count": null,
   "metadata": {},
   "outputs": [],
   "source": []
  }
 ],
 "metadata": {
  "kernelspec": {
   "display_name": "Python 3 (ipykernel)",
   "language": "python",
   "name": "python3"
  },
  "language_info": {
   "codemirror_mode": {
    "name": "ipython",
    "version": 3
   },
   "file_extension": ".py",
   "mimetype": "text/x-python",
   "name": "python",
   "nbconvert_exporter": "python",
   "pygments_lexer": "ipython3",
   "version": "3.10.13"
  }
 },
 "nbformat": 4,
 "nbformat_minor": 2
}
